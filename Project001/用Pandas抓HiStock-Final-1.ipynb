{
 "cells": [
  {
   "cell_type": "code",
   "execution_count": 1,
   "id": "3851f666",
   "metadata": {},
   "outputs": [
    {
     "name": "stdout",
     "output_type": "stream",
     "text": [
      "    年度/季別         營收         毛利       營業利益       稅前淨利       稅後淨利\n",
      "0  2020Q1  310597183  160784181  128521637  132147178  117062893\n",
      "1  2020Q2  310698367  164692825  131094538  136398638  120892514\n",
      "2  2020Q3  356426204  190480670  150047349  155124003  137378151\n",
      "3  2020Q4  361533057  195188826  157120174  161107361  142824524\n",
      "4  2021Q1  362410230  189775219  150538190  155064389  139738749\n",
      "5  2021Q2  372145122  186234135  145667205  149391075  134481716\n",
      "6  2021Q3  414670379  212848684  171003548  173851639  156479154\n"
     ]
    }
   ],
   "source": [
    "import os\n",
    "os.getcwd()\n",
    "import time\n",
    "import pandas as pd\n",
    "url = 'https://histock.tw/stock/2330/%E6%90%8D%E7%9B%8A%E8%A1%A8'\n",
    "dfs = pd.read_html(url,encoding=\"utf-8\")\n",
    "# print (dfs)\n",
    "\n",
    "df = dfs[0]  #篩出存放的資料\n",
    "# print (df)\n",
    "\n",
    "dg = df.drop(df.index[7:19]) #刪除不要的\n",
    "# dg.columns=[u\"年度/季別\",u\"營收\",u\"毛利\",u\"營業利益\",u\"稅前淨利\",u\"稅後淨利\"]\n",
    "dh00 = dg.sort_values(by=['年度/季別']) #重新排序\n",
    "dh00.reset_index(inplace=True, drop=True) #重新給index\n",
    "\n",
    "# dh00.to_excel(r\"d:\\out\\dh00.xlsx\")  #匯出\n",
    "\n",
    "print(dh00)\n",
    "# print (dh00.dtypes)\n",
    "\n",
    "# dh.to_excel(writer,sheet_name=\"損益表\",index=False)\n",
    "\n",
    "#data.to_excel('1.xlsx', sheet_name='Sheet1', index=False, header=True)\n",
    "\n"
   ]
  },
  {
   "cell_type": "code",
   "execution_count": 2,
   "id": "08e4979d",
   "metadata": {},
   "outputs": [
    {
     "name": "stdout",
     "output_type": "stream",
     "text": [
      "    年度/季別     毛利率   營業利益率   稅前淨利率   稅後淨利率\n",
      "0  2020Q1  51.77%  41.38%  42.55%  37.69%\n",
      "1  2020Q2  53.01%  42.19%  43.90%  38.91%\n",
      "2  2020Q3  53.44%  42.10%  43.52%  38.54%\n",
      "3  2020Q4  53.99%  43.46%  44.56%  39.51%\n",
      "4  2021Q1  52.36%  41.54%  42.79%  38.56%\n",
      "5  2021Q2  50.04%  39.14%  40.14%  36.14%\n",
      "6  2021Q3  51.33%  41.24%  41.93%  37.74%\n"
     ]
    }
   ],
   "source": [
    "time.sleep( 3 )\n",
    "\n",
    "url = 'https://histock.tw/stock/2330/%E5%88%A9%E6%BD%A4%E6%AF%94%E7%8E%87'\n",
    "dfs = pd.read_html(url,encoding=\"utf-8\")\n",
    "\n",
    "df = dfs[0]\n",
    "dg = df.drop(df.index[7:19])\n",
    "dh01 = dg.sort_values(by=['年度/季別'])\n",
    "dh01.reset_index(inplace=True, drop=True)\n",
    "\n",
    "print(dh01)\n",
    "# dh01.to_excel(\"writer,sheet_name=\"利潤比率\",index=False')"
   ]
  },
  {
   "cell_type": "code",
   "execution_count": 3,
   "id": "b81c5ae8",
   "metadata": {},
   "outputs": [
    {
     "name": "stdout",
     "output_type": "stream",
     "text": [
      "    年度/季別  應收帳款收現天數  存貨週轉天數  營運週轉天數\n",
      "0  2020Q1     41.46   48.44   89.90\n",
      "1  2020Q2     42.87   50.57   93.44\n",
      "2  2020Q3     39.41   52.96   92.37\n",
      "3  2020Q4     38.41   66.78  105.20\n",
      "4  2021Q1     38.93   76.09  115.02\n",
      "5  2021Q2     41.81   78.67  120.48\n",
      "6  2021Q3     39.66   78.64  118.29\n"
     ]
    }
   ],
   "source": [
    "time.sleep( 3 )\n",
    "\n",
    "url = 'https://histock.tw/stock/2330/%E7%87%9F%E9%81%8B%E9%80%B1%E8%BD%89%E5%A4%A9%E6%95%B8'\n",
    "dfs = pd.read_html(url,encoding=\"utf-8\")\n",
    "\n",
    "df = dfs[0]\n",
    "dg = df.drop(df.index[7:19])\n",
    "dh02 = dg.sort_values(by=['年度/季別'])\n",
    "dh02.reset_index(inplace=True, drop=True)\n",
    "\n",
    "print(dh02)\n",
    "# dh02.to_excel(\"writer,sheet_name=\"營運週轉天數\",index=False')"
   ]
  },
  {
   "cell_type": "code",
   "execution_count": 4,
   "id": "8abfece7",
   "metadata": {},
   "outputs": [
    {
     "name": "stdout",
     "output_type": "stream",
     "text": [
      "    年度/季別      營業現金流      投資現金流      融資現金流      自由現金流       淨現金流\n",
      "0  2020Q1  203029442 -188993268  -40757411   14036174  -26721237\n",
      "1  2020Q2  170334959 -129750164    5912053   40584795   46496848\n",
      "2  2020Q3  190171227  -96079669   47434066   94091558  141525624\n",
      "3  2020Q4  259130584  -90958613 -101203795  168171971   66968176\n",
      "4  2021Q1  227815706 -244251414   14618457  -16435708   -1817251\n",
      "5  2021Q2  187439492 -169750998   75030682   17688494   92719176\n",
      "6  2021Q3  318706207 -177020159  -35324719  141686048  106361329\n"
     ]
    }
   ],
   "source": [
    "time.sleep( 3 )\n",
    "\n",
    "url = 'https://histock.tw/stock/2330/%E7%8F%BE%E9%87%91%E6%B5%81%E9%87%8F%E8%A1%A8'\n",
    "dfs = pd.read_html(url,encoding=\"utf-8\")\n",
    "\n",
    "df = dfs[0]\n",
    "dg = df.drop(df.index[7:19])\n",
    "dh03 = dg.sort_values(by=['年度/季別'])\n",
    "dh03.reset_index(inplace=True, drop=True)\n",
    "\n",
    "print(dh03)\n",
    "# dh03.to_excel(\"writer,sheet_name=\"現金流量表\",index=False')"
   ]
  },
  {
   "cell_type": "code",
   "execution_count": 5,
   "id": "5cdd0f19",
   "metadata": {},
   "outputs": [
    {
     "name": "stdout",
     "output_type": "stream",
     "text": [
      "    年度/季別        流動資產      長期投資        固定資產       其餘資產         總資產\n",
      "0  2020Q1   802470040  19381760  1438215285   83228611  2343295696\n",
      "1  2020Q2   860031580  16975748  1493560950   78096244  2448664522\n",
      "2  2020Q3  1029673918  17701081  1504438119   83759096  2635572214\n",
      "3  2020Q4  1092185308  18841061  1555589120   94095916  2760711405\n",
      "4  2021Q1  1139786823  20294816  1658551290  100498532  2919131461\n",
      "5  2021Q2  1241104023  19336878  1722679133  109695155  3092815189\n",
      "6  2021Q3  1370639169  20455175  1828894565  112322975  3332311884\n"
     ]
    }
   ],
   "source": [
    "time.sleep( 3 )\n",
    "\n",
    "url = 'https://histock.tw/stock/2330/%E8%B3%87%E7%94%A2%E8%A1%A8'\n",
    "dfs = pd.read_html(url,encoding=\"utf-8\")\n",
    "\n",
    "df = dfs[0]\n",
    "dg = df.drop(df.index[7:19])\n",
    "dh04 = dg.sort_values(by=['年度/季別'])\n",
    "dh04.reset_index(inplace=True, drop=True)\n",
    "\n",
    "print(dh04)\n",
    "# dh04.to_excel(\"writer,sheet_name=\"資產表\",index=False')"
   ]
  },
  {
   "cell_type": "code",
   "execution_count": 6,
   "id": "4c744852",
   "metadata": {},
   "outputs": [
    {
     "name": "stdout",
     "output_type": "stream",
     "text": [
      "    年度/季別       流動負債       長期負債  其餘負債         總負債          淨值\n",
      "0  2020Q1  589468059   76799106     0   666267165  1677028531\n",
      "1  2020Q2  614795728  112655412     0   727451140  1721213382\n",
      "2  2020Q3  588241723  259064116     0   847305839  1788266375\n",
      "3  2020Q4  617151048  292938358     0   910089406  1850621999\n",
      "4  2021Q1  661648612  316485887     0   978134499  1940996962\n",
      "5  2021Q2  647748947  451095669     0  1098844616  1993970573\n",
      "6  2021Q3  655621450  598370124     0  1253991574  2078320310\n"
     ]
    }
   ],
   "source": [
    "time.sleep( 3 )\n",
    "\n",
    "url = 'https://histock.tw/stock/2330/%E8%82%A1%E6%9D%B1%E6%AC%8A%E7%9B%8A'\n",
    "dfs = pd.read_html(url,encoding=\"utf-8\")\n",
    "\n",
    "df = dfs[0]\n",
    "dg = df.drop(df.index[7:19])\n",
    "dh05 = dg.sort_values(by=['年度/季別'])\n",
    "dh05.reset_index(inplace=True, drop=True)\n",
    "dh05 = dh05.drop(columns=[\"總資產\"])\n",
    "\n",
    "print(dh05)\n",
    "# dh05.to_excel(\"writer,sheet_name=\"股東權益\",index=False')"
   ]
  },
  {
   "cell_type": "code",
   "execution_count": 7,
   "id": "ec672030",
   "metadata": {},
   "outputs": [
    {
     "name": "stdout",
     "output_type": "stream",
     "text": [
      "    年度/季別    ROE    ROA\n",
      "0  2020Q1  7.10%  5.08%\n",
      "1  2020Q2  7.12%  5.05%\n",
      "2  2020Q3  7.83%  5.40%\n",
      "3  2020Q4  7.85%  5.29%\n",
      "4  2021Q1  7.37%  4.92%\n",
      "5  2021Q2  6.84%  4.47%\n",
      "6  2021Q3  7.69%  4.87%\n"
     ]
    }
   ],
   "source": [
    "time.sleep( 3 )\n",
    "\n",
    "url = 'https://histock.tw/stock/2330/%E5%A0%B1%E9%85%AC%E7%8E%87'\n",
    "dfs = pd.read_html(url,encoding=\"utf-8\")\n",
    "\n",
    "df = dfs[0]\n",
    "dg = df.drop(df.index[7:19])\n",
    "dh06 = dg.sort_values(by=['年度/季別'])\n",
    "dh06.reset_index(inplace=True, drop=True)\n",
    "\n",
    "print(dh06)\n",
    "# dh06.to_excel(\"writer,sheet_name=\"報酬率\",index=False')"
   ]
  },
  {
   "cell_type": "code",
   "execution_count": 8,
   "id": "e5860a6f",
   "metadata": {},
   "outputs": [
    {
     "name": "stdout",
     "output_type": "stream",
     "text": [
      "    年度/季別  負債佔資產比\n",
      "0  2020Q1  28.43%\n",
      "1  2020Q2  29.71%\n",
      "2  2020Q3  32.15%\n",
      "3  2020Q4  32.97%\n",
      "4  2021Q1  33.51%\n",
      "5  2021Q2  35.53%\n",
      "6  2021Q3  37.63%\n"
     ]
    }
   ],
   "source": [
    "time.sleep( 3 )\n",
    "\n",
    "url = 'https://histock.tw/stock/2330/%E8%B2%A0%E5%82%B5%E4%BD%94%E8%B3%87%E7%94%A2%E6%AF%94'\n",
    "dfs = pd.read_html(url,encoding=\"utf-8\")\n",
    "df = dfs[0]\n",
    "\n",
    "dg = df.drop(df.index[7:19])\n",
    "dh07 = dg.sort_values(by=['年度/季別'])\n",
    "dh07.reset_index(inplace=True, drop=True)\n",
    "\n",
    "print(dh07)\n",
    "# dh07.to_excel(\"writer,sheet_name=\"負債佔資產比\",index=False')"
   ]
  },
  {
   "cell_type": "code",
   "execution_count": 9,
   "id": "f1b825cf",
   "metadata": {},
   "outputs": [],
   "source": [
    "from functools import partial, reduce\n",
    "dfs = [dh01,dh02,dh03,dh04,dh05,dh06,dh07]\n",
    "#df_final = pd.DataFrame(columns=dh00.columns)\n",
    "df_final = pd.DataFrame(dh00)\n",
    "for df in dfs:\n",
    "    df_final = df_final.merge(df, on=['年度/季別'], how='outer')\n",
    "   \n",
    "df_final.to_excel(r\"d:\\out\\load.xlsx\")"
   ]
  },
  {
   "cell_type": "code",
   "execution_count": 10,
   "id": "be3590c7",
   "metadata": {},
   "outputs": [],
   "source": [
    "#底下是另外方法的城市"
   ]
  },
  {
   "cell_type": "code",
   "execution_count": 11,
   "id": "f7a534b1",
   "metadata": {},
   "outputs": [],
   "source": [
    "# #存個別工作表\n",
    "\n",
    "\n",
    "# xlsx = pd.ExcelWriter(r\"d:\\out\\2330.xlsx\")\n",
    "# dh00.to_excel(xlsx, sheet_name=\"損益表\")\n",
    "# dh01.to_excel(xlsx, sheet_name=\"利潤比率\")\n",
    "# dh02.to_excel(xlsx, sheet_name=\"營運週轉天數\")\n",
    "# dh03.to_excel(xlsx, sheet_name=\"現金流量表\")\n",
    "# dh04.to_excel(xlsx, sheet_name=\"資產表\")\n",
    "# dh05.to_excel(xlsx, sheet_name=\"股東權益\")\n",
    "# dh06.to_excel(xlsx, sheet_name=\"報酬率\")\n",
    "# dh07.to_excel(xlsx, sheet_name=\"負債佔資產比\")\n",
    "# xlsx.close()\n",
    "\n",
    "# # 方法一\n",
    "# # xlsx = pd.ExcelWriter(r\"d:\\test.xlsx\")\n",
    "# # df1.to_excel(xlsx, sheet_name=\"df1\")\n",
    "# # df2.to_excel(xlsx, sheet_name=\"df2\")\n",
    "# # xlsx.close()\n",
    "\n",
    "# # 方法二\n",
    "# # with pd.ExcelWriter(r\"d:\\test.xlsx\") as xlsx:\n",
    "# #     df1.to_excel(xlsx, sheet_name=\"df1\")\n",
    "# #     df2.to_excel(xlsx, sheet_name=\"df2\")\n",
    "# #     df3.to_excel(xlsx, sheet_name=\"df3\")"
   ]
  },
  {
   "cell_type": "code",
   "execution_count": 12,
   "id": "0e4cf658",
   "metadata": {},
   "outputs": [],
   "source": [
    "# #存成一個工作表\n",
    "\n",
    "# dh10 = pd.merge(dh00,dh01)\n",
    "# dh11 = pd.merge(dh10,dh02)\n",
    "# dh12 = pd.merge(dh11,dh03)\n",
    "# dh13 = pd.merge(dh12,dh04)\n",
    "# dh14 = pd.merge(dh13,dh05)\n",
    "# dh15 = pd.merge(dh14,dh06)\n",
    "# dh16 = pd.merge(dh15,dh07)\n",
    "\n",
    "# dh16.to_excel(r\"d:\\out\\2330-100.xlsx\")\n",
    "# dh16.to_excel(r\"d:\\out\\load.xlsx\")"
   ]
  },
  {
   "cell_type": "code",
   "execution_count": 13,
   "id": "412a4ec0",
   "metadata": {},
   "outputs": [
    {
     "name": "stdout",
     "output_type": "stream",
     "text": [
      "     2020\n",
      "0   89.90\n",
      "1   93.44\n",
      "2   92.37\n",
      "3  105.20\n",
      "     2021\n",
      "0  115.02\n",
      "1  120.48\n",
      "2  118.29\n",
      "3    0.00\n",
      "     2020    2021\n",
      "0   89.90  115.02\n",
      "1   93.44  120.48\n",
      "2   92.37  118.29\n",
      "3  105.20    0.00\n"
     ]
    }
   ],
   "source": [
    "import os\n",
    "os.getcwd()\n",
    "import time\n",
    "import pandas as pd\n",
    "\n",
    "url = 'https://histock.tw/stock/2330/%E7%87%9F%E9%81%8B%E9%80%B1%E8%BD%89%E5%A4%A9%E6%95%B8'\n",
    "dfs = pd.read_html(url,encoding=\"utf-8\")\n",
    "\n",
    "df = dfs[0]\n",
    "dg = df.drop(df.index[7:19])\n",
    "dhtd0 = dg.sort_values(by=['年度/季別'])\n",
    "dhtd0.reset_index(inplace=True, drop=True)\n",
    "\n",
    "#print(dhtd0)\n",
    "#dhtd0.to_excel(\\\"try1110209.xlsx\",\"writer,sheet_name=\"營運週轉天數\",index=False')\n",
    "#dhtd0.to_excel(\"a.xlsx\", sheet_name=\"dhtd0\")\n",
    "\n",
    "dhtd1 = (dhtd0.loc[[0,1,2,3],['營運週轉天數']])\n",
    "# print(dhtd1)\n",
    "# print('----------------')\n",
    "dhtd1.columns = [2020]\n",
    "dhtd1.reset_index(inplace=True, drop=True)\n",
    "print(dhtd1)\n",
    "\n",
    "\n",
    "#print('----------------')\n",
    "\n",
    "dhtd2 = (dhtd0.loc[[4,5,6],['營運週轉天數']])\n",
    "#print(dhtd2)\n",
    "dhtd2.columns = [2021]\n",
    "dhtd2.reset_index(inplace=True,drop=True)\n",
    "dhtd2 = dhtd2.append({2021:0},ignore_index=True)#新增一筆資料:補0\n",
    "dhtd2.reset_index(inplace=True, drop=True)\n",
    "print(dhtd2)\n",
    "\n",
    "\n",
    "dhtd00 =pd.merge(dhtd1,dhtd2,left_index=True,right_index=True,how='outer')\n",
    "print(dhtd00)\n",
    "dhtd00.to_excel(r\"d:\\out\\Turn-day.xlsx\")\n",
    "#print(dhtd00)"
   ]
  },
  {
   "cell_type": "code",
   "execution_count": 1,
   "id": "8f519764",
   "metadata": {},
   "outputs": [
    {
     "name": "stdout",
     "output_type": "stream",
     "text": [
      "        2020\n",
      "0  310597183\n",
      "1  310698367\n",
      "2  356426204\n",
      "3  361533057\n",
      "        2021\n",
      "0  362410230\n",
      "1  372145122\n",
      "2  414670379\n",
      "3          0\n",
      "        2020       2021\n",
      "0  310597183  362410230\n",
      "1  310698367  372145122\n",
      "2  356426204  414670379\n",
      "3  361533057          0\n"
     ]
    }
   ],
   "source": [
    "import os\n",
    "os.getcwd()\n",
    "import time\n",
    "import pandas as pd\n",
    "\n",
    "url = 'https://histock.tw/stock/2330/%E6%90%8D%E7%9B%8A%E8%A1%A8'\n",
    "dfs = pd.read_html(url,encoding=\"utf-8\")\n",
    "\n",
    "df = dfs[0]\n",
    "dg = df.drop(df.index[7:19])\n",
    "de0 = dg.sort_values(by=['年度/季別'])\n",
    "de0.reset_index(inplace=True, drop=True)\n",
    "\n",
    "#print(de0)\n",
    "\n",
    "\n",
    "de01 = (de0.loc[[0,1,2,3],['營收']])\n",
    "# print(de01)\n",
    "# print('----------------')\n",
    "de01.columns = [2020]\n",
    "de01.reset_index(inplace=True, drop=True)\n",
    "print(de01)\n",
    "\n",
    "\n",
    "#print('----------------')\n",
    "\n",
    "de02 = (de0.loc[[4,5,6],['營收']])\n",
    "#print(de02)\n",
    "de02.columns = [2021]\n",
    "de02.reset_index(inplace=True,drop=True)\n",
    "de02 = de02.append({2021:0},ignore_index=True)#新增一筆資料:補0\n",
    "de02.reset_index(inplace=True, drop=True)\n",
    "print(de02)\n",
    "\n",
    "\n",
    "de00 =pd.merge(de01,de02,left_index=True,right_index=True,how='outer')\n",
    "print(de00)\n",
    "de00.to_excel(r\"d:\\out\\revenue.xlsx\")\n",
    "#print(de00)"
   ]
  },
  {
   "cell_type": "code",
   "execution_count": null,
   "id": "df16cc7e",
   "metadata": {},
   "outputs": [],
   "source": []
  }
 ],
 "metadata": {
  "kernelspec": {
   "display_name": "Python 3",
   "language": "python",
   "name": "python3"
  },
  "language_info": {
   "codemirror_mode": {
    "name": "ipython",
    "version": 3
   },
   "file_extension": ".py",
   "mimetype": "text/x-python",
   "name": "python",
   "nbconvert_exporter": "python",
   "pygments_lexer": "ipython3",
   "version": "3.8.8"
  }
 },
 "nbformat": 4,
 "nbformat_minor": 5
}
